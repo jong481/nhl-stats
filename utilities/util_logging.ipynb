{
 "cells": [
  {
   "cell_type": "code",
   "execution_count": 8,
   "metadata": {
    "ExecuteTime": {
     "end_time": "2019-03-03T03:27:08.093179Z",
     "start_time": "2019-03-03T03:27:08.075226Z"
    }
   },
   "outputs": [
    {
     "name": "stdout",
     "output_type": "stream",
     "text": [
      "Writing py/util_logging.py\n"
     ]
    }
   ],
   "source": [
    "%%writefile py/util_logging.py\n",
    "\n",
    "import logging\n",
    "\n",
    "class UtilLogging:\n",
    "    \"\"\"\n",
    "    Class used to represent a logging object to write to a specific file\n",
    "    \"\"\"\n",
    "    \n",
    "    def __init__(self, log_file, log_name):\n",
    "        \"\"\"\n",
    "        Parameters\n",
    "        ----------\n",
    "        log_file : str\n",
    "            file name of desired log file\n",
    "        log_name : str\n",
    "            name for logging object\n",
    "        \"\"\"\n",
    "            \n",
    "        self.log_file = log_file\n",
    "        self.log_name = log_name\n",
    "                \n",
    "    def initiateLogger(self):\n",
    "        \"\"\"Setup logger object with specified file name and logger name\n",
    "        \n",
    "        Returns\n",
    "        ----------\n",
    "        logger : logger object\n",
    "            logger object with specified file name and logger name\n",
    "        \"\"\"\n",
    "        \n",
    "        formatter = logging.Formatter(fmt='%(asctime)s %(levelname)-8s %(message)s', datefmt='%Y-%m-%d %H:%M:%S')\n",
    "        handler = logging.FileHandler(self.log_file, mode='a')\n",
    "        handler.setFormatter(formatter)\n",
    "\n",
    "        logger = logging.getLogger(self.log_name)\n",
    "        logger.setLevel(logging.DEBUG)\n",
    "        logger.addHandler(handler)\n",
    "        \n",
    "        return logger"
   ]
  }
 ],
 "metadata": {
  "kernelspec": {
   "display_name": "Python 3",
   "language": "python",
   "name": "python3"
  },
  "language_info": {
   "codemirror_mode": {
    "name": "ipython",
    "version": 3
   },
   "file_extension": ".py",
   "mimetype": "text/x-python",
   "name": "python",
   "nbconvert_exporter": "python",
   "pygments_lexer": "ipython3",
   "version": "3.7.1"
  },
  "varInspector": {
   "cols": {
    "lenName": 16,
    "lenType": 16,
    "lenVar": 40
   },
   "kernels_config": {
    "python": {
     "delete_cmd_postfix": "",
     "delete_cmd_prefix": "del ",
     "library": "var_list.py",
     "varRefreshCmd": "print(var_dic_list())"
    },
    "r": {
     "delete_cmd_postfix": ") ",
     "delete_cmd_prefix": "rm(",
     "library": "var_list.r",
     "varRefreshCmd": "cat(var_dic_list()) "
    }
   },
   "types_to_exclude": [
    "module",
    "function",
    "builtin_function_or_method",
    "instance",
    "_Feature"
   ],
   "window_display": false
  }
 },
 "nbformat": 4,
 "nbformat_minor": 2
}
