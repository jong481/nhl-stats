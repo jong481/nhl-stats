{
 "cells": [
  {
   "cell_type": "code",
   "execution_count": null,
   "metadata": {
    "ExecuteTime": {
     "end_time": "2019-03-03T03:58:28.806128Z",
     "start_time": "2019-03-03T03:58:28.790381Z"
    }
   },
   "outputs": [],
   "source": [
    "\"\"\"Delta Load for NHL Players\n",
    "\n",
    "This script handles delta load for NHL Players.\n",
    "\n",
    "Data comes from the below URL:\n",
    "https://records.nhl.com/site/api/player\n",
    "\n",
    "Data is written into the following:\n",
    "Database: NHL_Analytics\n",
    "Table: nhl_players\n",
    "\n",
    "\"\"\""
   ]
  },
  {
   "cell_type": "code",
   "execution_count": 1,
   "metadata": {
    "ExecuteTime": {
     "end_time": "2019-03-03T04:16:11.498581Z",
     "start_time": "2019-03-03T04:16:11.494590Z"
    }
   },
   "outputs": [],
   "source": [
    "app = 'delta_load_nhl_players'"
   ]
  },
  {
   "cell_type": "code",
   "execution_count": 2,
   "metadata": {
    "ExecuteTime": {
     "end_time": "2019-03-03T04:16:12.365263Z",
     "start_time": "2019-03-03T04:16:11.658154Z"
    }
   },
   "outputs": [],
   "source": [
    "import pandas as pd\n",
    "import json\n",
    "import sys\n",
    "import time\n",
    "import datetime\n",
    "\n",
    "sys.path.append(r'../utilities/py')\n",
    "\n",
    "import util_psql_db as pdb\n",
    "import util_scraping as scr\n",
    "import util_logging as logging\n",
    "\n",
    "sys.path.append('../')\n",
    "\n",
    "import settings\n",
    "\n",
    "db = settings.database['local']\n",
    "psql = pdb.UtilPostgreSQL(db['host'], db['port'], db['user'], db['pass'], db['db'])\n",
    "\n",
    "logger = logging.UtilLogging('../logs/delta_load_nhl_players.log', app)\n",
    "log = logger.initiateLogger()"
   ]
  },
  {
   "cell_type": "code",
   "execution_count": 3,
   "metadata": {
    "ExecuteTime": {
     "end_time": "2019-03-03T04:16:13.570679Z",
     "start_time": "2019-03-03T04:16:13.566307Z"
    }
   },
   "outputs": [],
   "source": [
    "log.info(\"START {0}\".format(app))"
   ]
  },
  {
   "cell_type": "code",
   "execution_count": 4,
   "metadata": {
    "ExecuteTime": {
     "end_time": "2019-03-03T04:16:17.216374Z",
     "start_time": "2019-03-03T04:16:13.958612Z"
    }
   },
   "outputs": [],
   "source": [
    "\"\"\"\n",
    "Retrieve Data\n",
    "\"\"\"\n",
    "URL = r'https://records.nhl.com/site/api/player'\n",
    "json_data = scr.getURLJson(URL)"
   ]
  },
  {
   "cell_type": "code",
   "execution_count": 5,
   "metadata": {
    "ExecuteTime": {
     "end_time": "2019-03-03T04:16:21.889882Z",
     "start_time": "2019-03-03T04:16:21.883899Z"
    }
   },
   "outputs": [],
   "source": [
    "log.info(\"Retrieving URL: {0}\".format(URL))"
   ]
  },
  {
   "cell_type": "code",
   "execution_count": 6,
   "metadata": {
    "ExecuteTime": {
     "end_time": "2019-03-03T04:16:27.693480Z",
     "start_time": "2019-03-03T04:16:27.311413Z"
    }
   },
   "outputs": [],
   "source": [
    "\"\"\"\n",
    "Create Player Dataframe\n",
    "\"\"\"\n",
    "data = json_data['data']\n",
    "\n",
    "player_df = pd.DataFrame(data)"
   ]
  },
  {
   "cell_type": "code",
   "execution_count": 7,
   "metadata": {
    "ExecuteTime": {
     "end_time": "2019-03-03T04:16:38.420148Z",
     "start_time": "2019-03-03T04:16:38.413723Z"
    }
   },
   "outputs": [],
   "source": [
    "log.info(\"Dataframe Shape: {0}\".format(player_df.shape))"
   ]
  },
  {
   "cell_type": "code",
   "execution_count": 8,
   "metadata": {
    "ExecuteTime": {
     "end_time": "2019-03-03T04:17:02.460324Z",
     "start_time": "2019-03-03T04:16:48.977649Z"
    }
   },
   "outputs": [],
   "source": [
    "psql.writeDFToTable(player_df, 'nhl_players_2', 'replace')\n",
    "try: psql.dropTable('nhl_players_b')\n",
    "except: pass\n",
    "try: psql.renameTable('nhl_players', 'nhl_players_b')\n",
    "except: pass\n",
    "try: psql.renameTable('nhl_players_2', 'nhl_players')\n",
    "except: pass"
   ]
  },
  {
   "cell_type": "code",
   "execution_count": 9,
   "metadata": {
    "ExecuteTime": {
     "end_time": "2019-03-03T04:17:12.926361Z",
     "start_time": "2019-03-03T04:17:12.918448Z"
    }
   },
   "outputs": [],
   "source": [
    "log.info(\"FINISH {0}\".format(app))"
   ]
  }
 ],
 "metadata": {
  "kernelspec": {
   "display_name": "Python 3",
   "language": "python",
   "name": "python3"
  },
  "language_info": {
   "codemirror_mode": {
    "name": "ipython",
    "version": 3
   },
   "file_extension": ".py",
   "mimetype": "text/x-python",
   "name": "python",
   "nbconvert_exporter": "python",
   "pygments_lexer": "ipython3",
   "version": "3.7.1"
  },
  "varInspector": {
   "cols": {
    "lenName": 16,
    "lenType": 16,
    "lenVar": "200"
   },
   "kernels_config": {
    "python": {
     "delete_cmd_postfix": "",
     "delete_cmd_prefix": "del ",
     "library": "var_list.py",
     "varRefreshCmd": "print(var_dic_list())"
    },
    "r": {
     "delete_cmd_postfix": ") ",
     "delete_cmd_prefix": "rm(",
     "library": "var_list.r",
     "varRefreshCmd": "cat(var_dic_list()) "
    }
   },
   "types_to_exclude": [
    "module",
    "function",
    "builtin_function_or_method",
    "instance",
    "_Feature"
   ],
   "window_display": false
  }
 },
 "nbformat": 4,
 "nbformat_minor": 2
}
