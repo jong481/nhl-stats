{
 "cells": [
  {
   "cell_type": "code",
   "execution_count": null,
   "metadata": {},
   "outputs": [],
   "source": [
    "\"\"\"Initial Load for NHL Players\n",
    "\n",
    "This script handles initial load for NHL Players.\n",
    "\n",
    "Data comes from the below URL:\n",
    "https://records.nhl.com/site/api/player\n",
    "\n",
    "Data is written into the following:\n",
    "Database: NHL_Analytics\n",
    "Table: nhl_players\n",
    "\n",
    "\"\"\""
   ]
  },
  {
   "cell_type": "code",
   "execution_count": 1,
   "metadata": {
    "ExecuteTime": {
     "end_time": "2019-03-01T22:40:32.061050Z",
     "start_time": "2019-03-01T22:40:30.544119Z"
    }
   },
   "outputs": [],
   "source": [
    "import pandas as pd\n",
    "import json\n",
    "import sys\n",
    "import time\n",
    "import datetime\n",
    "\n",
    "sys.path.append(r'../utilities/py')\n",
    "\n",
    "import util_psql_db as pdb\n",
    "import util_scraping as scr\n",
    "\n",
    "sys.path.append('../')\n",
    "\n",
    "import settings\n",
    "\n",
    "db = settings.database['local']\n",
    "psql = pdb.UtilPostgreSQL(db['host'], db['port'], db['user'], db['pass'], db['db'])"
   ]
  },
  {
   "cell_type": "code",
   "execution_count": 3,
   "metadata": {
    "ExecuteTime": {
     "end_time": "2019-03-01T22:40:35.078527Z",
     "start_time": "2019-03-01T22:40:32.266508Z"
    }
   },
   "outputs": [],
   "source": [
    "\"\"\"\n",
    "Retrieve Data\n",
    "\"\"\"\n",
    "URL = r'https://records.nhl.com/site/api/player'\n",
    "json_data = scr.getURLJson(URL)"
   ]
  },
  {
   "cell_type": "code",
   "execution_count": 11,
   "metadata": {
    "ExecuteTime": {
     "end_time": "2019-03-01T22:40:42.439640Z",
     "start_time": "2019-03-01T22:40:42.111071Z"
    }
   },
   "outputs": [],
   "source": [
    "\"\"\"\n",
    "Create Player Dataframe\n",
    "\"\"\"\n",
    "data = json_data['data']\n",
    "\n",
    "player_df = pd.DataFrame(data)"
   ]
  },
  {
   "cell_type": "code",
   "execution_count": 10,
   "metadata": {},
   "outputs": [],
   "source": [
    "psql.writeDFToTable(player_df, 'nhl_players_2', 'replace')\n",
    "try: psql.renameTable('nhl_players', 'nhl_players_b')\n",
    "except: pass\n",
    "try: psql.renameTable('nhl_players_2', 'nhl_players')\n",
    "except: pass"
   ]
  }
 ],
 "metadata": {
  "kernelspec": {
   "display_name": "Python 3",
   "language": "python",
   "name": "python3"
  },
  "language_info": {
   "codemirror_mode": {
    "name": "ipython",
    "version": 3
   },
   "file_extension": ".py",
   "mimetype": "text/x-python",
   "name": "python",
   "nbconvert_exporter": "python",
   "pygments_lexer": "ipython3",
   "version": "3.7.1"
  },
  "varInspector": {
   "cols": {
    "lenName": 16,
    "lenType": 16,
    "lenVar": "200"
   },
   "kernels_config": {
    "python": {
     "delete_cmd_postfix": "",
     "delete_cmd_prefix": "del ",
     "library": "var_list.py",
     "varRefreshCmd": "print(var_dic_list())"
    },
    "r": {
     "delete_cmd_postfix": ") ",
     "delete_cmd_prefix": "rm(",
     "library": "var_list.r",
     "varRefreshCmd": "cat(var_dic_list()) "
    }
   },
   "types_to_exclude": [
    "module",
    "function",
    "builtin_function_or_method",
    "instance",
    "_Feature"
   ],
   "window_display": false
  }
 },
 "nbformat": 4,
 "nbformat_minor": 2
}
