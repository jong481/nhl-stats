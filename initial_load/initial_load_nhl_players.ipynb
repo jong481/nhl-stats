{
 "cells": [
  {
   "cell_type": "code",
   "execution_count": null,
   "metadata": {},
   "outputs": [],
   "source": [
    "\"\"\"\n",
    "Initial Load for NHL Players\n",
    "\"\"\""
   ]
  },
  {
   "cell_type": "code",
   "execution_count": 1,
   "metadata": {
    "ExecuteTime": {
     "end_time": "2019-03-01T22:40:32.061050Z",
     "start_time": "2019-03-01T22:40:30.544119Z"
    }
   },
   "outputs": [],
   "source": [
    "\"\"\"\n",
    "SET UP REQUIREMENTS\n",
    "\"\"\"\n",
    "%matplotlib inline\n",
    "import requests\n",
    "import matplotlib.pyplot as plt\n",
    "import pandas as pd\n",
    "import seaborn as sns\n",
    "import json\n",
    "import sys\n",
    "import time\n",
    "import datetime\n",
    "\n",
    "sys.path.append(r'C:/Users/ongje/Documents/GitHub/NHL_Analytics/Utilities/py')\n",
    "\n",
    "import util_psql_db as pdb\n",
    "import util_scraping as scr"
   ]
  },
  {
   "cell_type": "code",
   "execution_count": 2,
   "metadata": {
    "ExecuteTime": {
     "end_time": "2019-03-01T22:40:32.169348Z",
     "start_time": "2019-03-01T22:40:32.164413Z"
    }
   },
   "outputs": [],
   "source": [
    "\"\"\"\n",
    "DEFINE DATABASE CONNECTION\n",
    "\"\"\"\n",
    "db_host = 'localhost'\n",
    "db_port = 5432\n",
    "db_user = 'nhl_user'\n",
    "db_pw = 'nhl_user'\n",
    "db_name = 'NHL_Analytics'"
   ]
  },
  {
   "cell_type": "code",
   "execution_count": 3,
   "metadata": {
    "ExecuteTime": {
     "end_time": "2019-03-01T22:40:35.078527Z",
     "start_time": "2019-03-01T22:40:32.266508Z"
    }
   },
   "outputs": [],
   "source": [
    "\"\"\"\n",
    "API URL\n",
    "\"\"\"\n",
    "URL = r'https://records.nhl.com/site/api/player'\n",
    "json_data = scr.getURLJson(URL)"
   ]
  },
  {
   "cell_type": "code",
   "execution_count": 4,
   "metadata": {
    "ExecuteTime": {
     "end_time": "2019-03-01T22:40:42.439640Z",
     "start_time": "2019-03-01T22:40:42.111071Z"
    }
   },
   "outputs": [],
   "source": [
    "\"\"\"\n",
    "LOAD DATA INTO DATAFRAME\n",
    "\"\"\"\n",
    "data = json_data['data']\n",
    "\n",
    "player_df = pd.DataFrame(data)"
   ]
  },
  {
   "cell_type": "code",
   "execution_count": 9,
   "metadata": {
    "ExecuteTime": {
     "end_time": "2019-03-01T22:42:31.523763Z",
     "start_time": "2019-03-01T22:42:18.345881Z"
    }
   },
   "outputs": [],
   "source": [
    "\"\"\"\n",
    "WRITE DATA INTO POSTGRES TABLE\n",
    "\"\"\"\n",
    "pdb.writeDF(player_df, 'localhost', 5432, 'nhl_user', 'nhl_user', 'NHL_Analytics', 'nhl_players_2', 'replace')\n",
    "try: pdb.renameTable(db_host, db_port, db_user, db_pw, db_name, 'nhl_players', 'nhl_players_b') \n",
    "except: pass\n",
    "try: pdb.renameTable(db_host, db_port, db_user, db_pw, db_name, 'nhl_players_2', 'nhl_players')\n",
    "except: pass"
   ]
  }
 ],
 "metadata": {
  "kernelspec": {
   "display_name": "Python 3",
   "language": "python",
   "name": "python3"
  },
  "language_info": {
   "codemirror_mode": {
    "name": "ipython",
    "version": 3
   },
   "file_extension": ".py",
   "mimetype": "text/x-python",
   "name": "python",
   "nbconvert_exporter": "python",
   "pygments_lexer": "ipython3",
   "version": "3.7.1"
  },
  "varInspector": {
   "cols": {
    "lenName": 16,
    "lenType": 16,
    "lenVar": 40
   },
   "kernels_config": {
    "python": {
     "delete_cmd_postfix": "",
     "delete_cmd_prefix": "del ",
     "library": "var_list.py",
     "varRefreshCmd": "print(var_dic_list())"
    },
    "r": {
     "delete_cmd_postfix": ") ",
     "delete_cmd_prefix": "rm(",
     "library": "var_list.r",
     "varRefreshCmd": "cat(var_dic_list()) "
    }
   },
   "types_to_exclude": [
    "module",
    "function",
    "builtin_function_or_method",
    "instance",
    "_Feature"
   ],
   "window_display": false
  }
 },
 "nbformat": 4,
 "nbformat_minor": 2
}
