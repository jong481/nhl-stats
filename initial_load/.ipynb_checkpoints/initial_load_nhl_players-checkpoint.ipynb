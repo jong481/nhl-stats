{
 "cells": [
  {
   "cell_type": "code",
   "execution_count": null,
   "metadata": {
    "ExecuteTime": {
     "end_time": "2019-03-03T03:32:26.210928Z",
     "start_time": "2019-03-03T03:32:26.206897Z"
    }
   },
   "outputs": [],
   "source": [
    "\"\"\"Initial Load for NHL Players\n",
    "\n",
    "This script handles initial load for NHL Players.\n",
    "\n",
    "Data comes from the below URL:\n",
    "https://records.nhl.com/site/api/player\n",
    "\n",
    "Data is written into the following:\n",
    "Database: NHL_Analytics\n",
    "Table: nhl_players\n",
    "\n",
    "\"\"\""
   ]
  },
  {
   "cell_type": "code",
   "execution_count": 2,
   "metadata": {
    "ExecuteTime": {
     "end_time": "2019-03-03T03:34:26.235743Z",
     "start_time": "2019-03-03T03:34:26.231943Z"
    }
   },
   "outputs": [],
   "source": [
    "app = 'initial_load_nhl_players'"
   ]
  },
  {
   "cell_type": "code",
   "execution_count": 3,
   "metadata": {
    "ExecuteTime": {
     "end_time": "2019-03-03T03:34:26.437008Z",
     "start_time": "2019-03-03T03:34:26.425072Z"
    }
   },
   "outputs": [],
   "source": [
    "import pandas as pd\n",
    "import json\n",
    "import sys\n",
    "import time\n",
    "import datetime\n",
    "\n",
    "sys.path.append(r'../utilities/py')\n",
    "\n",
    "import util_psql_db as pdb\n",
    "import util_scraping as scr\n",
    "import util_logging as logging\n",
    "\n",
    "sys.path.append('../')\n",
    "\n",
    "import settings\n",
    "\n",
    "db = settings.database['local']\n",
    "psql = pdb.UtilPostgreSQL(db['host'], db['port'], db['user'], db['pass'], db['db'])\n",
    "\n",
    "logger = logging.UtilLogging('../logs/initial_load_nhl_players.log', app)\n",
    "log = logger.initiateLogger()"
   ]
  },
  {
   "cell_type": "code",
   "execution_count": 4,
   "metadata": {
    "ExecuteTime": {
     "end_time": "2019-03-03T03:34:27.417619Z",
     "start_time": "2019-03-03T03:34:27.413598Z"
    }
   },
   "outputs": [],
   "source": [
    "log.info(\"START {0}\".format(app))"
   ]
  },
  {
   "cell_type": "code",
   "execution_count": 5,
   "metadata": {
    "ExecuteTime": {
     "end_time": "2019-03-03T03:34:30.781931Z",
     "start_time": "2019-03-03T03:34:27.953120Z"
    }
   },
   "outputs": [],
   "source": [
    "\"\"\"\n",
    "Retrieve Data\n",
    "\"\"\"\n",
    "URL = r'https://records.nhl.com/site/api/player'\n",
    "json_data = scr.getURLJson(URL)"
   ]
  },
  {
   "cell_type": "code",
   "execution_count": 6,
   "metadata": {
    "ExecuteTime": {
     "end_time": "2019-03-03T03:34:35.011809Z",
     "start_time": "2019-03-03T03:34:35.004644Z"
    }
   },
   "outputs": [],
   "source": [
    "log.info(\"Retrieving URL: {0}\".format(URL))"
   ]
  },
  {
   "cell_type": "code",
   "execution_count": 7,
   "metadata": {
    "ExecuteTime": {
     "end_time": "2019-03-03T03:34:39.576503Z",
     "start_time": "2019-03-03T03:34:39.180642Z"
    }
   },
   "outputs": [],
   "source": [
    "\"\"\"\n",
    "Create Player Dataframe\n",
    "\"\"\"\n",
    "data = json_data['data']\n",
    "\n",
    "player_df = pd.DataFrame(data)"
   ]
  },
  {
   "cell_type": "code",
   "execution_count": 8,
   "metadata": {
    "ExecuteTime": {
     "end_time": "2019-03-03T03:34:47.908154Z",
     "start_time": "2019-03-03T03:34:47.903169Z"
    }
   },
   "outputs": [],
   "source": [
    "log.info(\"Dataframe Shape: {0}\".format(player_df.shape))"
   ]
  },
  {
   "cell_type": "code",
   "execution_count": null,
   "metadata": {
    "ExecuteTime": {
     "start_time": "2019-03-03T03:34:41.346Z"
    }
   },
   "outputs": [],
   "source": [
    "psql.writeDFToTable(player_df, 'nhl_players_2', 'replace')\n",
    "try: psql.renameTable('nhl_players', 'nhl_players_b')\n",
    "except: pass\n",
    "try: psql.renameTable('nhl_players_2', 'nhl_players')\n",
    "except: pass"
   ]
  },
  {
   "cell_type": "code",
   "execution_count": null,
   "metadata": {
    "ExecuteTime": {
     "start_time": "2019-03-03T03:34:50.166Z"
    }
   },
   "outputs": [],
   "source": [
    "log.info(\"FINISH {0}\".format(app))"
   ]
  }
 ],
 "metadata": {
  "kernelspec": {
   "display_name": "Python 3",
   "language": "python",
   "name": "python3"
  },
  "language_info": {
   "codemirror_mode": {
    "name": "ipython",
    "version": 3
   },
   "file_extension": ".py",
   "mimetype": "text/x-python",
   "name": "python",
   "nbconvert_exporter": "python",
   "pygments_lexer": "ipython3",
   "version": "3.7.1"
  },
  "varInspector": {
   "cols": {
    "lenName": 16,
    "lenType": 16,
    "lenVar": "200"
   },
   "kernels_config": {
    "python": {
     "delete_cmd_postfix": "",
     "delete_cmd_prefix": "del ",
     "library": "var_list.py",
     "varRefreshCmd": "print(var_dic_list())"
    },
    "r": {
     "delete_cmd_postfix": ") ",
     "delete_cmd_prefix": "rm(",
     "library": "var_list.r",
     "varRefreshCmd": "cat(var_dic_list()) "
    }
   },
   "types_to_exclude": [
    "module",
    "function",
    "builtin_function_or_method",
    "instance",
    "_Feature"
   ],
   "window_display": false
  }
 },
 "nbformat": 4,
 "nbformat_minor": 2
}
